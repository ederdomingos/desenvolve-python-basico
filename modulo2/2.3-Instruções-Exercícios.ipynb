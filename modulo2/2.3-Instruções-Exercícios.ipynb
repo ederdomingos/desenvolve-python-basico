{
 "cells": [
  {
   "cell_type": "markdown",
   "metadata": {
    "id": "1pCTdOHonv5f"
   },
   "source": [
    "# Módulo 2\n",
    "\n",
    "## 2.3 Instruções e Expressões\n",
    "\n",
    "### Q1\n",
    "\n",
    "Faça um programa que armazene o valor de 20 reais de salário por hora de um trabalhador, e o número de 40 horas trabalhadas na semana. Com essas informações, calcule e imprima:\n",
    "- Salário semanal bruto\n",
    "- Valor descontado por semana INSS (10% do bruto)\n",
    "- Valor descontado por semana pelo sindicato (5% do bruto)\n",
    "- Salário semanal líquido (Bruto - Descontos)"
   ]
  },
  {
   "cell_type": "code",
   "execution_count": 2,
   "metadata": {
    "id": "hVbX0I97nj6M"
   },
   "outputs": [
    {
     "name": "stdout",
     "output_type": "stream",
     "text": [
      "Salário semanal bruto: R$ 800.0\n",
      "Desconto INSS (10%): R$ 80.0\n",
      "Desconto Sindicato (5%): R$ 40.0\n",
      "Salário semanal líquido: R$ 680.0\n"
     ]
    }
   ],
   "source": [
    "# Armazena os valores\n",
    "salario_por_hora = 20.0\n",
    "horas_trabalhadas = 40\n",
    "\n",
    "# Calcula o salário bruto semanal\n",
    "salario_bruto = salario_por_hora * horas_trabalhadas\n",
    "\n",
    "# Calcula os descontos\n",
    "inss = salario_bruto * 0.10\n",
    "sindicato = salario_bruto * 0.05\n",
    "\n",
    "# Calcula o salário líquido\n",
    "salario_liquido = salario_bruto - inss - sindicato\n",
    "\n",
    "# Exibe os resultados\n",
    "print(\"Salário semanal bruto: R$\", salario_bruto)\n",
    "print(\"Desconto INSS (10%): R$\", inss)\n",
    "print(\"Desconto Sindicato (5%): R$\", sindicato)\n",
    "print(\"Salário semanal líquido: R$\", salario_liquido)"
   ]
  },
  {
   "cell_type": "markdown",
   "metadata": {
    "id": "pIxKX9J2oGZ1"
   },
   "source": [
    "### Q2\n",
    "\n",
    "Altere o programa anterior para a partir dos valores de horas trabalhadas por semana e salário por hora, calcular **em somente duas instruções**:\n",
    "- Salário semanal bruto\n",
    "- Salário semanal líquido com todos os descontos. Para a segunda instrução, realize todos os cálculos aritméticos em uma expressão composta.\n"
   ]
  },
  {
   "cell_type": "code",
   "execution_count": 3,
   "metadata": {
    "id": "pAHw9Xf9oGoi"
   },
   "outputs": [
    {
     "name": "stdout",
     "output_type": "stream",
     "text": [
      "Salário semanal bruto: R$ 800.0\n",
      "Salário semanal líquido: R$ 680.0\n"
     ]
    }
   ],
   "source": [
    "# Armazena os valores\n",
    "salario_por_hora = 20.0\n",
    "horas_trabalhadas = 40\n",
    "\n",
    "# 1ª instrução: cálculo do salário bruto\n",
    "salario_bruto = salario_por_hora * horas_trabalhadas\n",
    "\n",
    "# 2ª instrução: cálculo do salário líquido (com expressão composta)\n",
    "salario_liquido = salario_bruto - (salario_bruto * 0.10) - (salario_bruto * 0.05)\n",
    "\n",
    "# Exibe os resultados\n",
    "print(\"Salário semanal bruto: R$\", salario_bruto)\n",
    "print(\"Salário semanal líquido: R$\", salario_liquido)"
   ]
  },
  {
   "cell_type": "markdown",
   "metadata": {
    "id": "m8tlHRuWpBOB"
   },
   "source": [
    "### Q3\n",
    "\n",
    "Você está desenvolvendo um software de conversão de moeda e precisa calcular o valor equivalente em yuan chinês a partir de uma quantia em real. A taxa de câmbio é de 0.69 BRL (real) para 1 CNY (yuan). Escreva um programa que define em uma variável uma quantia em reais (BRL) e calcula o valor equivalente em yuan (CNY). Imprima o resultado."
   ]
  },
  {
   "cell_type": "code",
   "execution_count": 4,
   "metadata": {
    "id": "2bPw7uF6oeL9"
   },
   "outputs": [
    {
     "name": "stdout",
     "output_type": "stream",
     "text": [
      "R$ 100.0 equivalem a CNY 144.93\n"
     ]
    }
   ],
   "source": [
    "# Quantia em reais\n",
    "reais = 100.0  # você pode alterar para qualquer valor\n",
    "\n",
    "# Taxa de câmbio: 0.69 BRL = 1 CNY\n",
    "taxa_cambio = 0.69\n",
    "\n",
    "# Calcula o valor equivalente em yuan\n",
    "yuan = reais / taxa_cambio\n",
    "\n",
    "# Exibe o resultado\n",
    "print(\"R$\", reais, \"equivalem a CNY\", round(yuan, 2))"
   ]
  },
  {
   "cell_type": "markdown",
   "metadata": {
    "id": "-Na3ltDCp74A"
   },
   "source": [
    "### Q4\n",
    "\n",
    "Você é um treinador de corrida e deseja calcular a velocidade média que um atleta precisa manter para completar a Maratona Internacional de São Silvestre, que tem uma distância total de 42.195 km. A fórmula para calcular a velocidade média ($v\\_media$) é dada por $v\\_media = \\frac{distancia}{tempo}$ . Escreva um programa em Python para calcular a velocidade média necessária para completar a maratona em 3 horas.\n",
    "\n",
    "**Calcule e imprima o resultado em metros/segundo**, ou seja, converta a distância de quilômetros para metros ($metro = \\frac{km}{1000}$) e a velocidade de horas para segundos $(segundo = \\frac{hora}{3600})$."
   ]
  },
  {
   "cell_type": "code",
   "execution_count": 5,
   "metadata": {
    "id": "Bn6l8kcSrE4L"
   },
   "outputs": [
    {
     "name": "stdout",
     "output_type": "stream",
     "text": [
      "Velocidade média necessária: 3.91 m/s\n"
     ]
    }
   ],
   "source": [
    "# Distância da maratona em quilômetros\n",
    "distancia_km = 42.195\n",
    "\n",
    "# Tempo em horas\n",
    "tempo_horas = 3\n",
    "\n",
    "# Converte distância para metros e tempo para segundos\n",
    "distancia_metros = distancia_km * 1000\n",
    "tempo_segundos = tempo_horas * 3600\n",
    "\n",
    "# Calcula a velocidade média em m/s\n",
    "velocidade_media = distancia_metros / tempo_segundos\n",
    "\n",
    "# Exibe o resultado\n",
    "print(\"Velocidade média necessária: {:.2f} m/s\".format(velocidade_media))\n"
   ]
  },
  {
   "cell_type": "code",
   "execution_count": null,
   "metadata": {},
   "outputs": [],
   "source": []
  }
 ],
 "metadata": {
  "colab": {
   "provenance": []
  },
  "kernelspec": {
   "display_name": "Python 3 (ipykernel)",
   "language": "python",
   "name": "python3"
  },
  "language_info": {
   "codemirror_mode": {
    "name": "ipython",
    "version": 3
   },
   "file_extension": ".py",
   "mimetype": "text/x-python",
   "name": "python",
   "nbconvert_exporter": "python",
   "pygments_lexer": "ipython3",
   "version": "3.13.7"
  }
 },
 "nbformat": 4,
 "nbformat_minor": 4
}
